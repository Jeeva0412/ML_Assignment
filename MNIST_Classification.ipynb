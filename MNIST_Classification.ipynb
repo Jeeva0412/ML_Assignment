{
  "cells": [
    {
      "cell_type": "code",
      "execution_count": 1,
      "metadata": {
        "id": "CvXn8YoYAryZ"
      },
      "outputs": [],
      "source": [
        "import numpy as np\n",
        "import cv2\n",
        "import time\n",
        "import matplotlib.pyplot as plt\n",
        "from skimage.feature import hog, local_binary_pattern\n",
        "from sklearn.model_selection import train_test_split\n",
        "from sklearn.preprocessing import StandardScaler\n",
        "from sklearn.ensemble import RandomForestClassifier, GradientBoostingClassifier\n",
        "from sklearn.svm import SVC\n",
        "from sklearn.metrics import accuracy_score, classification_report\n",
        "from tensorflow.keras.datasets import mnist\n",
        "from tensorflow.keras.applications import VGG16, ResNet50\n",
        "from tensorflow.keras.models import Model, Sequential\n",
        "from tensorflow.keras.layers import Dense, Flatten, Dropout\n",
        "from tensorflow.keras.optimizers import Adam\n",
        "from tensorflow.keras.preprocessing.image import ImageDataGenerator"
      ]
    },
    {
      "cell_type": "code",
      "execution_count": 2,
      "metadata": {
        "id": "h2jWd2xDAvFU",
        "colab": {
          "base_uri": "https://localhost:8080/"
        },
        "outputId": "2f49b9a4-eed6-440b-861a-f5d65b06a3e9"
      },
      "outputs": [
        {
          "output_type": "stream",
          "name": "stdout",
          "text": [
            "Downloading data from https://storage.googleapis.com/tensorflow/tf-keras-datasets/mnist.npz\n",
            "\u001b[1m11490434/11490434\u001b[0m \u001b[32m━━━━━━━━━━━━━━━━━━━━\u001b[0m\u001b[37m\u001b[0m \u001b[1m1s\u001b[0m 0us/step\n"
          ]
        }
      ],
      "source": [
        "# Load MNIST dataset\n",
        "(X_train, y_train), (X_test, y_test) = mnist.load_data()"
      ]
    },
    {
      "cell_type": "code",
      "execution_count": 3,
      "metadata": {
        "id": "rzpq6VdgAvwY"
      },
      "outputs": [],
      "source": [
        "# Normalize the images\n",
        "X_train = X_train / 255.0\n",
        "X_test = X_test / 255.0"
      ]
    },
    {
      "cell_type": "code",
      "execution_count": 4,
      "metadata": {
        "id": "5hezpSvbAxfK"
      },
      "outputs": [],
      "source": [
        "# Resize images for deep learning models\n",
        "X_train_resized = np.array([cv2.resize(img, (32, 32)) for img in X_train])\n",
        "X_test_resized = np.array([cv2.resize(img, (32, 32)) for img in X_test])\n",
        "X_train_resized = np.expand_dims(X_train_resized, axis=-1)\n",
        "X_test_resized = np.expand_dims(X_test_resized, axis=-1)"
      ]
    },
    {
      "cell_type": "code",
      "execution_count": 5,
      "metadata": {
        "id": "2mEwY-JcAzy2"
      },
      "outputs": [],
      "source": [
        "# Feature extraction functions\n",
        "datagen = ImageDataGenerator(rotation_range=10, width_shift_range=0.1, height_shift_range=0.1)\n",
        "\n",
        "def extract_hog_features(images):\n",
        "    return np.array([hog(img, pixels_per_cell=(4, 4), cells_per_block=(2, 2), feature_vector=True) for img in images])\n",
        "\n",
        "def extract_lbp_features(images):\n",
        "    return np.array([local_binary_pattern(img, P=8, R=1).flatten() for img in images])\n",
        "\n",
        "def extract_edge_features(images):\n",
        "    return np.array([cv2.Canny((img * 255).astype(np.uint8), 100, 200).flatten() for img in images])"
      ]
    },
    {
      "cell_type": "code",
      "execution_count": 6,
      "metadata": {
        "id": "mr_u31cXEfJp"
      },
      "outputs": [],
      "source": [
        "# HOG + SVM Model\n",
        "hog_features_train = extract_hog_features(X_train)\n",
        "hog_features_test = extract_hog_features(X_test)\n",
        "scaler = StandardScaler()\n",
        "X_train_hog_scaled = scaler.fit_transform(hog_features_train)\n",
        "X_test_hog_scaled = scaler.transform(hog_features_test)\n",
        "hog_clf = SVC(kernel='rbf', C=10, gamma='scale')\n",
        "hog_clf.fit(X_train_hog_scaled, y_train)\n",
        "y_pred_hog = hog_clf.predict(X_test_hog_scaled)\n",
        "hog_accuracy = accuracy_score(y_test, y_pred_hog)\n",
        "hog_report = classification_report(y_test, y_pred_hog)"
      ]
    },
    {
      "cell_type": "code",
      "execution_count": 8,
      "metadata": {
        "id": "AixS1MB_BC2y",
        "colab": {
          "base_uri": "https://localhost:8080/"
        },
        "collapsed": true,
        "outputId": "37c1f1bb-8539-4f1b-bdea-906535498114"
      },
      "outputs": [
        {
          "output_type": "stream",
          "name": "stdout",
          "text": [
            "Downloading data from https://storage.googleapis.com/tensorflow/keras-applications/resnet/resnet50_weights_tf_dim_ordering_tf_kernels_notop.h5\n",
            "\u001b[1m94765736/94765736\u001b[0m \u001b[32m━━━━━━━━━━━━━━━━━━━━\u001b[0m\u001b[37m\u001b[0m \u001b[1m3s\u001b[0m 0us/step\n",
            "\u001b[1m1875/1875\u001b[0m \u001b[32m━━━━━━━━━━━━━━━━━━━━\u001b[0m\u001b[37m\u001b[0m \u001b[1m281s\u001b[0m 148ms/step\n",
            "\u001b[1m313/313\u001b[0m \u001b[32m━━━━━━━━━━━━━━━━━━━━\u001b[0m\u001b[37m\u001b[0m \u001b[1m51s\u001b[0m 164ms/step\n"
          ]
        },
        {
          "output_type": "stream",
          "name": "stderr",
          "text": [
            "/usr/local/lib/python3.11/dist-packages/keras/src/layers/core/dense.py:87: UserWarning: Do not pass an `input_shape`/`input_dim` argument to a layer. When using Sequential models, prefer using an `Input(shape)` object as the first layer in the model instead.\n",
            "  super().__init__(activity_regularizer=activity_regularizer, **kwargs)\n"
          ]
        },
        {
          "output_type": "stream",
          "name": "stdout",
          "text": [
            "Epoch 1/10\n",
            "\u001b[1m469/469\u001b[0m \u001b[32m━━━━━━━━━━━━━━━━━━━━\u001b[0m\u001b[37m\u001b[0m \u001b[1m16s\u001b[0m 31ms/step - accuracy: 0.6051 - loss: 1.1882 - val_accuracy: 0.8667 - val_loss: 0.3994\n",
            "Epoch 2/10\n",
            "\u001b[1m469/469\u001b[0m \u001b[32m━━━━━━━━━━━━━━━━━━━━\u001b[0m\u001b[37m\u001b[0m \u001b[1m22s\u001b[0m 35ms/step - accuracy: 0.8263 - loss: 0.5325 - val_accuracy: 0.9115 - val_loss: 0.2955\n",
            "Epoch 3/10\n",
            "\u001b[1m469/469\u001b[0m \u001b[32m━━━━━━━━━━━━━━━━━━━━\u001b[0m\u001b[37m\u001b[0m \u001b[1m19s\u001b[0m 31ms/step - accuracy: 0.8410 - loss: 0.4947 - val_accuracy: 0.9103 - val_loss: 0.2923\n",
            "Epoch 4/10\n",
            "\u001b[1m469/469\u001b[0m \u001b[32m━━━━━━━━━━━━━━━━━━━━\u001b[0m\u001b[37m\u001b[0m \u001b[1m14s\u001b[0m 31ms/step - accuracy: 0.8323 - loss: 0.5213 - val_accuracy: 0.9167 - val_loss: 0.2749\n",
            "Epoch 5/10\n",
            "\u001b[1m469/469\u001b[0m \u001b[32m━━━━━━━━━━━━━━━━━━━━\u001b[0m\u001b[37m\u001b[0m \u001b[1m20s\u001b[0m 31ms/step - accuracy: 0.8323 - loss: 0.5112 - val_accuracy: 0.9164 - val_loss: 0.2737\n",
            "Epoch 6/10\n",
            "\u001b[1m469/469\u001b[0m \u001b[32m━━━━━━━━━━━━━━━━━━━━\u001b[0m\u001b[37m\u001b[0m \u001b[1m14s\u001b[0m 31ms/step - accuracy: 0.8378 - loss: 0.4961 - val_accuracy: 0.9245 - val_loss: 0.2401\n",
            "Epoch 7/10\n",
            "\u001b[1m469/469\u001b[0m \u001b[32m━━━━━━━━━━━━━━━━━━━━\u001b[0m\u001b[37m\u001b[0m \u001b[1m20s\u001b[0m 31ms/step - accuracy: 0.8514 - loss: 0.4594 - val_accuracy: 0.9234 - val_loss: 0.2397\n",
            "Epoch 8/10\n",
            "\u001b[1m469/469\u001b[0m \u001b[32m━━━━━━━━━━━━━━━━━━━━\u001b[0m\u001b[37m\u001b[0m \u001b[1m14s\u001b[0m 30ms/step - accuracy: 0.8538 - loss: 0.4449 - val_accuracy: 0.9239 - val_loss: 0.2305\n",
            "Epoch 9/10\n",
            "\u001b[1m469/469\u001b[0m \u001b[32m━━━━━━━━━━━━━━━━━━━━\u001b[0m\u001b[37m\u001b[0m \u001b[1m21s\u001b[0m 31ms/step - accuracy: 0.8584 - loss: 0.4281 - val_accuracy: 0.9259 - val_loss: 0.2433\n",
            "Epoch 10/10\n",
            "\u001b[1m469/469\u001b[0m \u001b[32m━━━━━━━━━━━━━━━━━━━━\u001b[0m\u001b[37m\u001b[0m \u001b[1m21s\u001b[0m 31ms/step - accuracy: 0.8620 - loss: 0.4242 - val_accuracy: 0.9303 - val_loss: 0.2257\n"
          ]
        }
      ],
      "source": [
        "# ResNet50 + MLP Model\n",
        "base_model = ResNet50(weights='imagenet', include_top=False, input_shape=(32, 32, 3))\n",
        "feature_extractor = Model(inputs=base_model.input, outputs=base_model.layers[-1].output)\n",
        "X_train_resnet = feature_extractor.predict(np.repeat(X_train_resized, 3, axis=-1))\n",
        "X_test_resnet = feature_extractor.predict(np.repeat(X_test_resized, 3, axis=-1))\n",
        "X_train_resnet = X_train_resnet.reshape(X_train_resnet.shape[0], -1)\n",
        "X_test_resnet = X_test_resnet.reshape(X_test_resnet.shape[0], -1)\n",
        "mlp_model = Sequential([\n",
        "    Dense(512, activation='relu', input_shape=(X_train_resnet.shape[1],)),\n",
        "    Dropout(0.5),\n",
        "    Dense(256, activation='relu'),\n",
        "    Dense(10, activation='softmax')\n",
        "])\n",
        "mlp_model.compile(optimizer=Adam(learning_rate=0.001), loss='sparse_categorical_crossentropy', metrics=['accuracy'])\n",
        "mlp_model.fit(X_train_resnet, y_train, epochs=10, batch_size=128, validation_data=(X_test_resnet, y_test))\n",
        "resnet_accuracy = mlp_model.evaluate(X_test_resnet, y_test, verbose=0)[1]"
      ]
    },
    {
      "cell_type": "code",
      "execution_count": 9,
      "metadata": {
        "id": "wGiabIwsBFJg",
        "colab": {
          "base_uri": "https://localhost:8080/"
        },
        "outputId": "9873a7a7-382e-4e2c-bd45-c8d00743f89e"
      },
      "outputs": [
        {
          "output_type": "stream",
          "name": "stdout",
          "text": [
            "\n",
            "HOG + SVM Accuracy: 0.9826\n",
            "\n",
            "Fine-Tuned ResNet50 + MLP Accuracy: 0.9302999973297119\n"
          ]
        }
      ],
      "source": [
        "# Print results\n",
        "print(\"\\nHOG + SVM Accuracy:\", accuracy_score(y_test, y_pred_hog))\n",
        "print(\"\\nFine-Tuned ResNet50 + MLP Accuracy:\", resnet_accuracy)"
      ]
    }
  ],
  "metadata": {
    "colab": {
      "provenance": []
    },
    "kernelspec": {
      "display_name": "Python 3",
      "name": "python3"
    },
    "language_info": {
      "name": "python"
    }
  },
  "nbformat": 4,
  "nbformat_minor": 0
}